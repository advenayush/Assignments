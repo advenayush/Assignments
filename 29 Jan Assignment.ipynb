{
 "cells": [
  {
   "cell_type": "code",
   "execution_count": 2,
   "id": "72368b92-876d-4b5e-aabb-b9451620654d",
   "metadata": {},
   "outputs": [],
   "source": [
    "# Question 1\n",
    "#Guido Van Russom"
   ]
  },
  {
   "cell_type": "code",
   "execution_count": 6,
   "id": "646602c3-ca75-4eee-b433-005ba3b84e22",
   "metadata": {},
   "outputs": [],
   "source": [
    "#Question 2\n",
    "# Python is an interpreted, interactive, object-oriented programming language. It incorporates modules, exceptions,\n",
    "# dynamic typing, very high level dynamic data types, and classes. It supports multiple programming paradigms beyond\n",
    "# object-oriented programming, such as procedural and functional programming.\n"
   ]
  },
  {
   "cell_type": "code",
   "execution_count": 7,
   "id": "006f8ad2-b51d-426f-bb19-0829932e34a8",
   "metadata": {},
   "outputs": [],
   "source": [
    "#Question 3\n",
    "#Yes"
   ]
  },
  {
   "cell_type": "code",
   "execution_count": 8,
   "id": "f8e7360f-e2ac-4afa-b2c8-77b031d720a3",
   "metadata": {},
   "outputs": [],
   "source": [
    "#Question 4\n",
    "# .py"
   ]
  },
  {
   "cell_type": "code",
   "execution_count": 11,
   "id": "bd857e8d-5f30-4848-9c81-eacf7d05c02f",
   "metadata": {},
   "outputs": [],
   "source": [
    "# Question 5\n",
    "# It is an interpreted language."
   ]
  },
  {
   "cell_type": "code",
   "execution_count": 2,
   "id": "8b66a1ee-d51b-4740-9f11-433ccf37598d",
   "metadata": {},
   "outputs": [],
   "source": [
    "# Question 6\n",
    "# a module , a function body, and a class definition"
   ]
  },
  {
   "cell_type": "code",
   "execution_count": 5,
   "id": "de1a6df1-8264-47f5-8de6-a03d4cce7b08",
   "metadata": {},
   "outputs": [],
   "source": [
    "# Question 7\n",
    "# - # is used."
   ]
  },
  {
   "cell_type": "code",
   "execution_count": 7,
   "id": "385e8280-1244-438c-9b5f-6eaf5587db29",
   "metadata": {},
   "outputs": [],
   "source": [
    "# Question 8\n",
    "# python_version()"
   ]
  },
  {
   "cell_type": "code",
   "execution_count": 9,
   "id": "10a94707-9878-4d53-8bb1-f166cb6a6f95",
   "metadata": {},
   "outputs": [],
   "source": [
    "# Question 9\n",
    "# lambda"
   ]
  },
  {
   "cell_type": "code",
   "execution_count": 10,
   "id": "c8ffb6e0-c072-4cd6-9b7b-65b492c5fbc8",
   "metadata": {},
   "outputs": [],
   "source": [
    "# Question 10\n",
    "# preffered installer program"
   ]
  },
  {
   "cell_type": "code",
   "execution_count": 11,
   "id": "98fbfc67-0651-4193-856b-285ed024fed2",
   "metadata": {},
   "outputs": [],
   "source": [
    "# Question 11\n",
    "# bytes(), callable(), chr(), classmethod()"
   ]
  },
  {
   "cell_type": "code",
   "execution_count": 12,
   "id": "e1a696cd-4f0a-44f4-9aef-b39a4dca51be",
   "metadata": {},
   "outputs": [],
   "source": [
    "# Question 12\n",
    "# 79 characters"
   ]
  },
  {
   "cell_type": "code",
   "execution_count": 13,
   "id": "4d55c7d5-46a0-4176-9463-5d495ff5ca6e",
   "metadata": {},
   "outputs": [],
   "source": [
    "# Question 13\n",
    "# easy to understand, widely used, easily adapdatble"
   ]
  },
  {
   "cell_type": "code",
   "execution_count": 14,
   "id": "2ed174d6-848e-4a2e-8985-d671b77e93b3",
   "metadata": {},
   "outputs": [],
   "source": [
    "# Question 14\n",
    "# Memory management in Python involves a private heap containing all Python objects and data structures.\n",
    "#The management of this private heap is ensured internally by the Python memory manager."
   ]
  },
  {
   "cell_type": "code",
   "execution_count": 15,
   "id": "9bfc5836-fcdc-4996-8b5e-c8e5e5295f55",
   "metadata": {},
   "outputs": [],
   "source": [
    "# Question 15\n",
    "# Right-clicking This PC and going to Properties.\n",
    "# Clicking on the Advanced system settings in the menu on the left.\n",
    "# Clicking on the Environment Variables button o​n the bottom right.\n",
    "# In the System variables section, selecting the Path variable and clicking on Edit.\n",
    "# The next screen will show all the directories that are currently a part of the PATH variable.\n",
    "# Clicking on New and entering Python’s install directory."
   ]
  },
  {
   "cell_type": "code",
   "execution_count": null,
   "id": "6de5bee4-427f-44d1-a4bd-e3daf04db409",
   "metadata": {},
   "outputs": [],
   "source": [
    "# Question 16\n",
    " # "
   ]
  }
 ],
 "metadata": {
  "kernelspec": {
   "display_name": "Python 3 (ipykernel)",
   "language": "python",
   "name": "python3"
  },
  "language_info": {
   "codemirror_mode": {
    "name": "ipython",
    "version": 3
   },
   "file_extension": ".py",
   "mimetype": "text/x-python",
   "name": "python",
   "nbconvert_exporter": "python",
   "pygments_lexer": "ipython3",
   "version": "3.10.8"
  }
 },
 "nbformat": 4,
 "nbformat_minor": 5
}
